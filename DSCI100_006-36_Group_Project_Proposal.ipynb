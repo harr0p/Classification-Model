{
 "cells": [
  {
   "cell_type": "markdown",
   "id": "e21829b3-af5f-4c0e-9990-e2591750ada7",
   "metadata": {},
   "source": [
    "***\n",
    "# DSCI 100: Group Project\n",
    "## Generating a Regression Model for Secondary Student's Alcohol Consumption \n",
    "\n",
    "#### **Section 006 - Group 6**\n",
    "#### Authors: Duncan Harrop, Julia Sangster, Charisse Webb, Janelle Xie\n",
    "***"
   ]
  },
  {
   "cell_type": "markdown",
   "id": "8bc1ef4c-bad0-4fa1-93e5-5933d601ca9d",
   "metadata": {},
   "source": [
    "***\n",
    "## **Introduction**\n",
    "***"
   ]
  },
  {
   "cell_type": "markdown",
   "id": "7b5889dd-3d24-4a34-aa65-911c0c593d1c",
   "metadata": {},
   "source": [
    "[DUNCAN]\n",
    "\n",
    "* Relevant background\n",
    "- Drinking culture for youth - what can it effect\n",
    "- What people need measures of amount students drink. What is it useful for\n",
    "\n",
    "**Question**: Can the age, grades, sex, failures and number of absences of a student be used to accurately classify a student's level of weekly alcohol consumption on a scale of 2 - 10?\n",
    "\n",
    "Classes: 2 - 10 on TAlc\n",
    "\n",
    "Predictors: Age, AvgG, Sex, Failure, # Absences\n",
    "\n",
    "* Describe dataset\n",
    "- How data was collected\n",
    "- Who, when, where, why, how was it collected\n",
    "- Describe the variables \n",
    "- Can use table below as scaffolding (or not)\n",
    "- TAlc is categorical by nature - describe why\n",
    "\n"
   ]
  },
  {
   "cell_type": "markdown",
   "id": "13246827-0cb7-4eeb-9257-99ca9777c35f",
   "metadata": {
    "tags": []
   },
   "source": [
    "| Variable | Coded Name | Possible Values | Descrition of Values |\n",
    "|---|---|---|---|\n",
    "| School | school | GP, MS | |\n",
    "| Sex | sex | F, M | |\n",
    "| Age | age | 15 - 22 | |\n",
    "| Address | address | U, R | |\n",
    "| Family Size | famsize | LE3, GT3 | |\n",
    "| Parental Status | Pstatus | T, A | |\n",
    "| Mother's Education | Medu | 0 - 4 | |\n",
    "| Father's Education  | Fedu | 0 - 4 | |\n",
    "| Mother's Job | Mjob | teacher, health, services, at_home, other | |\n",
    "| Father's Job | Fjob | teacher, health, services, at_home, other | |\n",
    "| Reason for Attending School | reason | home, reputation, course, other | |\n",
    "| Student's Guardian | guardian | mother, father, other | |\n",
    "| Commuting Time | traveltime | 1 - 4 | |\n",
    "| Studying Time | studytime | 1 - 4 | |\n",
    "| Number of Previous Class Failures | failures | 1 - 4 | |\n",
    "| Extra Educational Support | schoolsup | yes, no | |\n",
    "| Family Educational Support | famsup | yes, no | |\n",
    "| Extra Paid Classes for Course Subject | paid | yes, no | |\n",
    "| Does Extra-Curricular Activities | activities | yes, no | |\n",
    "| Went to Nursery School | nursery | yes, no | |\n",
    "| Wants to Take Higher Education | higher | yes, no | |\n",
    "| Has Internet Access at Home | internet | yes, no | |\n",
    "| Has a Romantic Relationship | romantic | yes, no | |\n",
    "| Quality of Family Relationships | famrel | 1 - 5 | |\n",
    "| Free Time After School | freetime | 1 - 5 | |\n",
    "| Time Spent Going Out With Friends | goout | 1 - 5 | |\n",
    "| Workday Alcohol Consumption | Dalc | 1 - 5 | |\n",
    "| Weekend Alcohol Consumption | Walc | 1 - 5 | |\n",
    "| Current Health Status | health | 1 - 5 | |\n",
    "| Absences from School | absences | 0 - 93 | |\n",
    "| Grade - Period 1 | G1 | 0 - 20 | |\n",
    "| Grade - Period 2 | G2 | 0 - 20 | |\n",
    "| Grade - Final Grade | G3 | 0 - 20  | |\n",
    "\n",
    "***"
   ]
  },
  {
   "cell_type": "markdown",
   "id": "ab85deca-dcde-4e4d-a7b7-0678f3b61ba6",
   "metadata": {},
   "source": [
    "***\n",
    "## **Preliminary Exploratory Data Analysis**\n",
    "***"
   ]
  },
  {
   "cell_type": "markdown",
   "id": "32b0fbd4-aab6-4d35-84da-e3dc1476247a",
   "metadata": {},
   "source": [
    " * Summarize training data \n",
    "* Summarize plot relevant to analysis\n",
    "\n",
    "Do response variable vs. predictor variables in scatter-plots\n",
    "\n",
    "Use RMSPE to determine if it matches or not - squared difference "
   ]
  },
  {
   "cell_type": "markdown",
   "id": "99d384b9-c4fb-428b-a58c-4b7e55d2a92b",
   "metadata": {},
   "source": [
    "#### Loading Libraries"
   ]
  },
  {
   "cell_type": "markdown",
   "id": "f75de806-0e1f-4eb0-abe4-57c5b96c56b2",
   "metadata": {},
   "source": [
    "Our project makes use of analysis tools in various R packages, including tidyverse. The coding cell below loads these packages and does other small tasks for setting up data analysis."
   ]
  },
  {
   "cell_type": "code",
   "execution_count": 6,
   "id": "f7fa1e6a-2fc4-4996-96c4-49eee5e6bda0",
   "metadata": {},
   "outputs": [],
   "source": [
    "## NOTE: Uncomment these lines if you do not have tidyverse, repr or tidymodels package installed\n",
    "\n",
    "## install.packages(\"tidyverse\")\n",
    "## install.packages(\"repr\")\n",
    "## install.packages(\"tidymodels\")\n",
    "\n",
    "## The following lines load all relevant packages for analysis\n",
    "suppressPackageStartupMessages({\n",
    "library(tidyverse)\n",
    "library(repr)\n",
    "library(tidymodels)})\n",
    "\n",
    "## Reducing default table output size \n",
    "options(repr.matrix.max.rows = 6)\n",
    "    \n",
    "## Setting the RNG seed for analysis\n",
    "set.seed(9999)\n",
    "\n",
    "theme_set(theme_bw())"
   ]
  },
  {
   "cell_type": "markdown",
   "id": "62dd57d5-4dfd-4894-82ba-1ac98cb781a5",
   "metadata": {
    "tags": []
   },
   "source": [
    "#### Reading Data from Web Repository"
   ]
  },
  {
   "cell_type": "markdown",
   "id": "f673abc4-7f72-4fe9-a884-287c33997122",
   "metadata": {},
   "source": [
    "The data to be analyzed was sourced from Kaggle [ADD SOURCE]. Due to it being present in a compressed file, the source data was transferred to a public GitHub repository. The cell below downloads the data file as a comma-separated values (CSV) file into the users working directory, and then loads the data into the current R kernel. "
   ]
  },
  {
   "cell_type": "code",
   "execution_count": 8,
   "id": "f4a38a48-e824-4b18-8f11-05c26f238be7",
   "metadata": {},
   "outputs": [
    {
     "data": {
      "text/html": [
       "<table class=\"dataframe\">\n",
       "<caption>A spec_tbl_df: 15435 × 1</caption>\n",
       "<thead>\n",
       "\t<tr><th scope=col>&lt;!DOCTYPE html&gt;</th></tr>\n",
       "\t<tr><th scope=col>&lt;chr&gt;</th></tr>\n",
       "</thead>\n",
       "<tbody>\n",
       "\t<tr><td>&lt;html lang=\"en\" data-color-mode=\"auto\" data-light-theme=\"light\" data-dark-theme=\"dark\" data-a11y-animated-images=\"system\"&gt;</td></tr>\n",
       "\t<tr><td><span style=white-space:pre-wrap>&lt;head&gt;                                                                                                                    </span></td></tr>\n",
       "\t<tr><td><span style=white-space:pre-wrap>&lt;meta charset=\"utf-8\"&gt;                                                                                                    </span></td></tr>\n",
       "\t<tr><td>⋮</td></tr>\n",
       "\t<tr><td>&lt;div id=\"js-global-screen-reader-notice\" class=\"sr-only\" aria-live=\"polite\" &gt;&lt;/div&gt;</td></tr>\n",
       "\t<tr><td><span style=white-space:pre-wrap>&lt;/body&gt;                                                                            </span></td></tr>\n",
       "\t<tr><td><span style=white-space:pre-wrap>&lt;/html&gt;                                                                            </span></td></tr>\n",
       "</tbody>\n",
       "</table>\n"
      ],
      "text/latex": [
       "A spec\\_tbl\\_df: 15435 × 1\n",
       "\\begin{tabular}{l}\n",
       " <!DOCTYPE html>\\\\\n",
       " <chr>\\\\\n",
       "\\hline\n",
       "\t <html lang=\"en\" data-color-mode=\"auto\" data-light-theme=\"light\" data-dark-theme=\"dark\" data-a11y-animated-images=\"system\">\\\\\n",
       "\t <head>                                                                                                                    \\\\\n",
       "\t <meta charset=\"utf-8\">                                                                                                    \\\\\n",
       "\t ⋮\\\\\n",
       "\t <div id=\"js-global-screen-reader-notice\" class=\"sr-only\" aria-live=\"polite\" ></div>\\\\\n",
       "\t </body>                                                                            \\\\\n",
       "\t </html>                                                                            \\\\\n",
       "\\end{tabular}\n"
      ],
      "text/markdown": [
       "\n",
       "A spec_tbl_df: 15435 × 1\n",
       "\n",
       "| &lt;!DOCTYPE html&gt; &lt;chr&gt; |\n",
       "|---|\n",
       "| &lt;html lang=\"en\" data-color-mode=\"auto\" data-light-theme=\"light\" data-dark-theme=\"dark\" data-a11y-animated-images=\"system\"&gt; |\n",
       "| &lt;head&gt;                                                                                                                     |\n",
       "| &lt;meta charset=\"utf-8\"&gt;                                                                                                     |\n",
       "| ⋮ |\n",
       "| &lt;div id=\"js-global-screen-reader-notice\" class=\"sr-only\" aria-live=\"polite\" &gt;&lt;/div&gt; |\n",
       "| &lt;/body&gt;                                                                             |\n",
       "| &lt;/html&gt;                                                                             |\n",
       "\n"
      ],
      "text/plain": [
       "      <!DOCTYPE html>                                                                                                           \n",
       "1     <html lang=\"en\" data-color-mode=\"auto\" data-light-theme=\"light\" data-dark-theme=\"dark\" data-a11y-animated-images=\"system\">\n",
       "2     <head>                                                                                                                    \n",
       "3     <meta charset=\"utf-8\">                                                                                                    \n",
       "⋮     ⋮                                                                                                                         \n",
       "15433 <div id=\"js-global-screen-reader-notice\" class=\"sr-only\" aria-live=\"polite\" ></div>                                       \n",
       "15434 </body>                                                                                                                   \n",
       "15435 </html>                                                                                                                   "
      ]
     },
     "metadata": {},
     "output_type": "display_data"
    }
   ],
   "source": [
    "## Note: Data was stored in .zip file so download.file() was not working from Kaggle\n",
    "## This change was approved March-02-2022 by TA Shruti\n",
    "\n",
    "suppressWarnings({\n",
    "    \n",
    "    ## Downloading file from GitHub repository\n",
    "    download.file(\"https://raw.githubusercontent.com/juliasangster/DSCI_Project/main/data/student-mat.csv\", destfile = \"student-mat.csv\")\n",
    "    \n",
    "    ## Reading the downlaoded file into the working directory\n",
    "    student_alcohol_consumption_raw <- read_csv(\"student-mat.csv\", col_types = cols())\n",
    "    \n",
    "    ## Displaying a part of the loaded data\n",
    "    student_alcohol_consumption_raw\n",
    "    })"
   ]
  },
  {
   "cell_type": "markdown",
   "id": "6006168e-b236-4f8b-8d96-60a1e095f62d",
   "metadata": {
    "tags": []
   },
   "source": [
    "#### Cleaning/Wrangling Data:"
   ]
  },
  {
   "cell_type": "markdown",
   "id": "610e4804-7372-4510-9047-cee1e2a4def6",
   "metadata": {},
   "source": [
    "Our data came in a tidy format, with each column, row, and value representing a single variable, observation, and value, respectively."
   ]
  },
  {
   "cell_type": "markdown",
   "id": "e09329eb-89a7-4297-9a9e-5d19550e3936",
   "metadata": {},
   "source": [
    "In the cell below, we demonstrate that this data set does not contain numeric NA values.\n",
    "This is shown by filtering across all varaibles of numeric-type for observations containing any NA values. As the resulting data-frame (data_na) is empty, this shows our data is processed for NA values. "
   ]
  },
  {
   "cell_type": "code",
   "execution_count": 4,
   "id": "63a72276-cea7-4422-b02d-ff0aef2b1b94",
   "metadata": {},
   "outputs": [
    {
     "ename": "ERROR",
     "evalue": "\u001b[1m\u001b[33mError\u001b[39m in \u001b[1m\u001b[1m`filter_if()`:\u001b[22m\n\u001b[1m\u001b[22m\u001b[33m!\u001b[39m `.predicate` must match at least one column.\n",
     "output_type": "error",
     "traceback": [
      "\u001b[1m\u001b[33mError\u001b[39m in \u001b[1m\u001b[1m`filter_if()`:\u001b[22m\n\u001b[1m\u001b[22m\u001b[33m!\u001b[39m `.predicate` must match at least one column.\nTraceback:\n",
      "1. filter_if(student_alcohol_consumption_raw, is.numeric, any_vars(is.na(.)))",
      "2. apply_filter_syms(.vars_predicate, syms, .tbl)",
      "3. abort(msg, call = error_call)",
      "4. signal_abort(cnd, .file)"
     ]
    }
   ],
   "source": [
    "number_observations_total <- nrow(student_alcohol_consumption_raw)\n",
    "\n",
    "data_na <- student_alcohol_consumption_raw |>\n",
    "    filter_if(is.numeric, any_vars(is.na(.)))\n",
    "\n",
    "number_rows_containing_na <- nrow(data_na)\n",
    "\n",
    "if(is.null(data_na)) {\n",
    "    number_rows_containing_na = 0}\n",
    "\n",
    "\n",
    "print(\"The total number of rows is:\")\n",
    "print(number_observations_total)\n",
    "print(\"The number of rows containing NA values is:\")\n",
    "print(number_rows_containing_na)\n"
   ]
  },
  {
   "cell_type": "code",
   "execution_count": null,
   "id": "4f0f19f3-8258-40c6-9535-46399861fc9e",
   "metadata": {},
   "outputs": [],
   "source": [
    "## Select relevant columns for analysis\n",
    "student_alcohol_consumption <- student_alcohol_consumption_raw |>\n",
    "    select(sex, age, failures, Dalc, Walc, absences, G1, G2, G3)"
   ]
  },
  {
   "cell_type": "markdown",
   "id": "cc11cfdb-6773-4895-a644-482683db2beb",
   "metadata": {},
   "source": [
    "The question posed is interested in only the total level of alcohol consumption, and does not care about if the alcohol consumption is on the weekend or weekday. To account for this, a new column named \"Talc\" was generated. Talc represents the total weekly alcohol consumption of a student, and is on a scale of 2 - 10, with 2 representing the lowest alcohol consumption and 10 representing the highest alcohol consumption.\n",
    "\n",
    "The new column will be calculated based on the formula below: \n",
    "\n",
    "$TAlc = DAlc + WAlc$\n",
    "\n",
    "This transfomation of the data was conducted in the cell below."
   ]
  },
  {
   "cell_type": "code",
   "execution_count": null,
   "id": "69763fa7-09e1-4a31-b7cc-6868fb990816",
   "metadata": {},
   "outputs": [],
   "source": [
    "## Convert weekend and weekday alcohol consumption to weekly total alcohol consumption\n",
    "## NOTE: Columns representing intermediate values (Dalc, Walc) will be selected away later to ensure 1 cell per value \n",
    "student_alcohol_consumption <- student_alcohol_consumption |>\n",
    "    mutate(Talc = Dalc + Walc)\n",
    "\n",
    "## The table at this stage can be displayed by uncommenting the line below \n",
    "## student_alcohol_consumption"
   ]
  },
  {
   "cell_type": "markdown",
   "id": "45986923-641b-4719-8027-3ce4aaf07157",
   "metadata": {},
   "source": [
    "Similarly, grades were assessed at three different stages of the school-year in assessments named G1, G2, and G3. Due to these all being measures of academic success, it was explored if G1, G2, and G3 were correlated. To do so, the following scatter-plots comparing assessment grades to the average of the three grades were generated. Note that the size of the point on these scatter plots is proportional to the count at that point. "
   ]
  },
  {
   "cell_type": "code",
   "execution_count": null,
   "id": "99697461-5052-4879-8235-54b0ab7c835e",
   "metadata": {
    "tags": []
   },
   "outputs": [],
   "source": [
    "grades_data <- student_alcohol_consumption |>\n",
    "    select(G1, G2, G3, AvgG) |>\n",
    "    pivot_longer(cols = G1:G3,\n",
    "                names_to = \"assessment\",\n",
    "                values_to = \"grade\")\n",
    "\n",
    "options(repr.plot.width = 15, repr.plot.height = 15) \n",
    "\n",
    "grades_plot <- grades_data |>\n",
    "    ggplot(aes(x=grade, y = AvgG)) +\n",
    "    geom_count(alpha = 0.5) +\n",
    "    facet_grid(cols = vars(assessment)) +\n",
    "    xlab(\"Grade on Assessment (1 - 20)\") +\n",
    "    ylab(\"Average of Three Assessments (1 - 20)\") +\n",
    "    ggtitle(\"Comparison of Average Grade to Individual Assessment Grade\") +\n",
    "    theme(plot.title = element_text(hjust = 0.5),\n",
    "          text = element_text(size = 15))\n",
    "\n",
    "grades_plot"
   ]
  },
  {
   "cell_type": "markdown",
   "id": "2a1ae026-54f3-4be6-8450-a18caaece071",
   "metadata": {},
   "source": [
    "The strong positive relationship demonstrated on these graphs indicates that G1, G2, and G3 are correlated in some way. For this reason, it was selected to use the **average** of grade assessments as a predicting variable, instead of indivudal grades on assessments. The averaging of this variable is done in the cell below."
   ]
  },
  {
   "cell_type": "code",
   "execution_count": null,
   "id": "6d294b6d-9086-4847-b0ec-8d10309e55f0",
   "metadata": {},
   "outputs": [],
   "source": [
    "## Convert individual grade assessments to average grade assessment\n",
    "## NOTE: Columns representing intermediate values (G1, G2, G3) will be selected away later to ensure 1 cell per value \n",
    "student_alcohol_consumption <- student_alcohol_consumption |>\n",
    "    mutate(AvgG = (G1 + G2 + G3)/3)\n",
    "\n",
    "## The table at this stage can be displayed by uncommenting the line below \n",
    "## student_alcohol_consumption"
   ]
  },
  {
   "cell_type": "markdown",
   "id": "fa1eeeda-0539-4aae-9ac7-fe7f33782641",
   "metadata": {},
   "source": [
    "Now that the values of total weekly alcohol consumption (Talc) and average grade (AvgG) have been calculated, only the columns we will use in our analysis will be selected to be in our final data frame. The cell below does this step and calculated the total number of observations in the complete data set, which is 395. "
   ]
  },
  {
   "cell_type": "code",
   "execution_count": null,
   "id": "d06493f4-04ba-4a84-b7be-1eaf20114603",
   "metadata": {},
   "outputs": [],
   "source": [
    "student_alcohol_consumption_clean <- student_alcohol_consumption |>\n",
    "    select(-Dalc, - Walc, -G1, -G2, -G3)\n",
    "\n",
    "count_observations <- nrow(student_alcohol_consumption_clean) \n",
    "\n",
    "print(\"The clean data set has this many observations:\")\n",
    "print(count_observations)"
   ]
  },
  {
   "cell_type": "markdown",
   "id": "4f5c23c4-fd2b-4b26-af67-25e10374a723",
   "metadata": {},
   "source": [
    "Our analysis attempts to judge the accuracy of our engine, and there are no means to obtain more data. As a result, our data will be split into training and testing data sets. The training data will only be used for building the model, and testing data will only be used for assessing the accuracy of the model. This initial split is in the cell below."
   ]
  },
  {
   "cell_type": "code",
   "execution_count": null,
   "id": "d3819da6-555c-4243-aaab-1e607ed0c41d",
   "metadata": {},
   "outputs": [],
   "source": [
    "## Splitting data into testing/training data frames\n",
    "sac_split <- initial_split(student_alcohol_consumption_clean, \n",
    "                            prop = 0.75,\n",
    "                            strata = Talc)\n",
    "\n",
    "## Grabbing the training set in a single data frame\n",
    "sac_train <- training(sac_split)\n",
    "\n",
    "## Grabbing the testing set in a single data frame\n",
    "sac_test  <- testing(sac_split)\n",
    "\n",
    "## If you would like to see the indivdual training/testing sets, please uncomment the lines below \n",
    "## sac_train\n",
    "## sac_test"
   ]
  },
  {
   "cell_type": "markdown",
   "id": "7855ba95-53af-4709-9267-fb1a4401e1c3",
   "metadata": {},
   "source": [
    "Our tidy data set to be used for training our model has now been fully wrangled and clean. The next section focusses on describing the training data."
   ]
  },
  {
   "cell_type": "markdown",
   "id": "588f76e5-0779-47c1-b4ce-0148ce2e82ec",
   "metadata": {},
   "source": [
    "## Summarizing and Visualizing Training Data "
   ]
  },
  {
   "cell_type": "markdown",
   "id": "5a39c417-f854-467d-aa72-398b519cf76e",
   "metadata": {
    "tags": []
   },
   "source": [
    "In the regression analysis to be conducted, the predictor variables will be:\n",
    "1. Student's Age\n",
    "2. Student's Sex\n",
    "3. Failures (n if $n \\in [0,3]$, else 4)\n",
    "4. Absences (0 - 93)\n",
    "5. Grades - Average of First Period, Second Period, Final Grades (G1 + G2 + G3 / 3)\n",
    "\n",
    "The response variable will be the student's total weekly alcohol consumption. "
   ]
  },
  {
   "cell_type": "markdown",
   "id": "3e0631fe-9aba-4dcf-8446-310b78a21c6e",
   "metadata": {},
   "source": [
    "##### Investigating Total Weekly Alcohol Consumption in Training Data\n",
    "\n",
    "A distribution of total weekly alcohol consumption in the training data set can be seen below."
   ]
  },
  {
   "cell_type": "code",
   "execution_count": null,
   "id": "6c2a265d-a981-45da-99c0-3912e4d65c3d",
   "metadata": {},
   "outputs": [],
   "source": [
    "alcohol_consump_data <- sac_train |>\n",
    "    select(Talc) \n",
    "\n",
    "options(repr.plot.width = 10, repr.plot.height = 10) \n",
    "\n",
    "alcohol_consump_plot <- alcohol_consump_data |>\n",
    "    ggplot(aes(x = Talc)) +\n",
    "    geom_histogram(bins = 10, binwidth = 1, color = \"black\", fill = \"darkgrey\",\n",
    "                   boundary= -0.5) +\n",
    "    xlab(\"Total Weekly Alcohol Consumption (1 - 10)\") +\n",
    "    ylab(\"Total Number of Observations\") +\n",
    "    ggtitle(\"Distribution of Total Alcohol Consumption in Training Data Set\") +\n",
    "    theme(plot.title = element_text(hjust = 0.5),\n",
    "          text = element_text(size = 20)) +\n",
    "    scale_x_continuous(breaks = 1:10)\n",
    "\n",
    "alcohol_consump_plot"
   ]
  },
  {
   "cell_type": "markdown",
   "id": "b2f36b64-e2cc-45fc-86d6-4c2cf241df5f",
   "metadata": {
    "tags": []
   },
   "source": [
    "##### Sex Distribution "
   ]
  },
  {
   "cell_type": "code",
   "execution_count": null,
   "id": "dcf7f01a-23fb-4bd2-99e0-98e93ba920d1",
   "metadata": {},
   "outputs": [],
   "source": [
    "sac_train_sex <- sac_train |>\n",
    "    select(sex) |>\n",
    "    group_by(sex) |>\n",
    "    summarize(count = n())\n",
    "\n",
    "## Code for plot: \n",
    "options(repr.plot.width = 10, repr.plot.height = 10) \n",
    "sac_train_sex_bar_chart_no_Talc <- sac_train_sex |>\n",
    "     ggplot(aes(x = sex, y = count, fill = sex)) + \n",
    "     geom_bar(stat = \"identity\",\n",
    "             color = \"black\") +\n",
    "     labs(x = \"Sex\",\n",
    "          y = \"Count\",\n",
    "          title = \"Distribution of Sex in Data Set\",\n",
    "          fill = \"Sex\") +\n",
    "     theme(plot.title = element_text(hjust = 0.5),\n",
    "           text = element_text(size = 20),\n",
    "           legend.position = \"bottom\")\n",
    "\n",
    "sac_train_sex_bar_chart_no_Talc"
   ]
  },
  {
   "cell_type": "code",
   "execution_count": null,
   "id": "704dc181-c69a-4d0f-997b-53b2a53f854b",
   "metadata": {},
   "outputs": [],
   "source": [
    "sac_train_sex_bar_chart_data <- sac_train |>\n",
    "    select(Talc, sex) |>\n",
    "    group_by(Talc, sex) |>\n",
    "    summarize(count = n()) |>\n",
    "    ungroup() \n",
    "\n",
    "## Conversion of Talc from dbl -> fct to make displaying via ggplot easier\n",
    "sac_train_sex_bar_chart_data$Talc <- as.factor(sac_train_sex_bar_chart_data$Talc)\n",
    "\n",
    "\n",
    "## Code for plot: \n",
    "options(repr.plot.width = 10, repr.plot.height = 10) \n",
    "sac_train_sex_bar_chart <- sac_train_sex_bar_chart_data |>\n",
    "     ggplot(aes(x = Talc, y = count, fill = sex)) + \n",
    "     geom_bar(stat = \"identity\",\n",
    "             color = \"black\") +\n",
    "     labs(x = \"Total Weekly Alcohol Consumption\",\n",
    "          y = \"Count\",\n",
    "          title = \"Distribution of Total Alcohol Consumption in Training Data \\n for Males vs. Female Students\",\n",
    "          fill = \"Sex\") +\n",
    "     theme(plot.title = element_text(hjust = 0.5),\n",
    "           text = element_text(size = 20),\n",
    "           legend.position = \"bottom\")\n",
    "\n",
    "sac_train_sex_bar_chart"
   ]
  },
  {
   "cell_type": "markdown",
   "id": "9105f81e-ffed-428e-959b-18959fefd929",
   "metadata": {
    "tags": []
   },
   "source": [
    "##### Age Distribution"
   ]
  },
  {
   "cell_type": "code",
   "execution_count": null,
   "id": "2c063b54-d476-4bad-9725-a17d8eacacc1",
   "metadata": {},
   "outputs": [],
   "source": [
    "sac_train_age_bar_chart_data <- sac_train |>\n",
    "    select(Talc, age) |>\n",
    "    group_by(Talc, age) |>\n",
    "    summarize(count = n()) |>\n",
    "    ungroup() \n",
    "\n",
    "## Conversion of Talc from dbl -> fct to make displaying via ggplot easier\n",
    "sac_train_age_bar_chart_data$Talc <- as.factor(sac_train_age_bar_chart_data$Talc)\n",
    "sac_train_age_bar_chart_data$age <- as.factor(sac_train_age_bar_chart_data$age)\n",
    "\n",
    "options(repr.plot.width = 10, repr.plot.height = 10) \n",
    "sac_train_age_bar_chart_1 <- sac_train_age_bar_chart_data |>\n",
    "     ggplot(aes(x = age, y = count, fill = Talc)) + \n",
    "     geom_violin(scale = Talc) +\n",
    "     labs(x = \"Age-Group\",\n",
    "          y = \"Proportion of Age-Group\",\n",
    "          title = \"Total Alcohol Consumption for Individual Age-Groups\",\n",
    "          fill = \"Total Alcohol Consumption\") +\n",
    "     theme(plot.title = element_text(hjust = 0.5),\n",
    "           text = element_text(size = 20),\n",
    "           legend.position = \"bottom\")\n",
    "\n",
    "sac_train_age_bar_chart_1"
   ]
  },
  {
   "cell_type": "markdown",
   "id": "6d1c5f17-3230-4f54-a59b-332db21eeb94",
   "metadata": {
    "tags": []
   },
   "source": [
    "##### Absences Distribution "
   ]
  },
  {
   "cell_type": "code",
   "execution_count": null,
   "id": "932392de-afdc-493c-9dc1-439d6e109658",
   "metadata": {},
   "outputs": [],
   "source": [
    "sac_train_absences_scatter_data <- sac_train |>\n",
    "    select(Talc, absences) \n",
    "\n",
    "plot1<- sac_train_absences_scatter_data |>\n",
    "    ggplot(aes(x=absences, y = Talc)) +\n",
    "    geom_count()\n",
    "\n",
    "plot1"
   ]
  },
  {
   "cell_type": "markdown",
   "id": "06145be6-7729-4c8a-a295-3ed57418bdde",
   "metadata": {
    "tags": []
   },
   "source": [
    "##### Failures Distribution"
   ]
  },
  {
   "cell_type": "code",
   "execution_count": null,
   "id": "a5115d6c-4619-4a49-9b0d-1314852269aa",
   "metadata": {},
   "outputs": [],
   "source": [
    "sac_train_failures_scatter_data <- sac_train |>\n",
    "    select(Talc, failures) \n",
    "\n",
    "plot2<- sac_train_failures_scatter_data |>\n",
    "    ggplot(aes(x=failures, y = Talc)) +\n",
    "    geom_count()\n",
    "\n",
    "plot2\n"
   ]
  },
  {
   "cell_type": "markdown",
   "id": "315be26b-68ec-405a-ba88-b046712a1a56",
   "metadata": {
    "tags": []
   },
   "source": [
    "##### Grades Distribution \n"
   ]
  },
  {
   "cell_type": "code",
   "execution_count": null,
   "id": "3a961f47-2db6-4a1b-9c65-6e95c6d04eff",
   "metadata": {},
   "outputs": [],
   "source": [
    "sac_train_avg_grades_scatter_data <- sac_train |>\n",
    "    select(Talc, AvgG) \n",
    "\n",
    "plot3<- sac_train_avg_grades_scatter_data |>\n",
    "    ggplot(aes(x=AvgG, y = Talc)) +\n",
    "    geom_count()\n",
    "\n",
    "plot3"
   ]
  },
  {
   "cell_type": "code",
   "execution_count": null,
   "id": "3af2b7e7-0f38-438c-a6da-d9d46e0b4c85",
   "metadata": {},
   "outputs": [],
   "source": []
  },
  {
   "cell_type": "code",
   "execution_count": null,
   "id": "fa29d1b0-951e-4410-8e09-ce8449b9d1b9",
   "metadata": {},
   "outputs": [],
   "source": []
  },
  {
   "cell_type": "markdown",
   "id": "039385cf-60f7-44c8-9b20-ccc082e24809",
   "metadata": {},
   "source": [
    "***\n",
    "## **Methods**\n",
    "***"
   ]
  },
  {
   "cell_type": "markdown",
   "id": "de37e937-43a5-48fc-a227-afbebb3b6173",
   "metadata": {},
   "source": [
    "* Explain data analysis and what varaibles you will use\n",
    "* Explain meaning of variables - all or predictive?\n",
    "* Explain visualization you will complete\n",
    "\n",
    "\n",
    "KNN Classification\n",
    "- Data will be standardized and scaled - to prevent mixing values of different magnitudes (aka one variable overtaking analysis)\n",
    "- Class variable needs to be a factor \n",
    "- You want approximately equal members in each class\n",
    "- create a model specification for K-NN with model_tune() \n",
    "- Use weight_func = \"rectangular\"\n",
    "- Set up recipe to use all other factor as predictors - preprocessing\n",
    "- Fit data to training data - train the classifier\n",
    "- we can balance the data sets with uc_recipe and step_upsample - but probably don't want to\n",
    "- predict labels in the test set, and bind using bind_cols()\n",
    "- Use metrics to judge the accuracy (class prediction == TAlc)\n",
    "- Use validation set (made with 5-factor vfold of training data) to do cross-validation \n",
    "\n",
    "\n",
    "KNN Regression\n",
    "\n",
    "KNN Strengths/Weaknesses\n",
    "- Simple - good for us \n",
    "- Low assumptions - good for us as we know little about the students other than what was given\n",
    "- Works well w non-linear - good for us as no knowledge of how it relates\n",
    "- Works poorly with huge data set - but our data set isn't huge\n",
    "- Works poorly with too many predictors - limiting to 5\n",
    "- May not predict well beyond range of values inputted - good for classification "
   ]
  },
  {
   "cell_type": "markdown",
   "id": "b58a3543-bf02-4367-bb5f-e35e213b6992",
   "metadata": {},
   "source": [
    "***\n",
    "## **Expected Outcomes and Significance**\n",
    "***"
   ]
  },
  {
   "cell_type": "markdown",
   "id": "7611775f-6d15-4683-adce-e01104919225",
   "metadata": {},
   "source": [
    "1. What do we expect to find? \n",
    "2. What impact do these findings have?\n",
    "3. What future questions could this lead to?"
   ]
  },
  {
   "cell_type": "code",
   "execution_count": null,
   "id": "577ffba9-c6ed-417f-9949-9580d53de284",
   "metadata": {},
   "outputs": [],
   "source": [
    "Use cross validation to evaluate different parameter choices \n",
    "* different values of K - choose K that gives lower RMSPE\n",
    "\n",
    "Use RMSPE to determine if it matches or not - squared difference"
   ]
  }
 ],
 "metadata": {
  "kernelspec": {
   "display_name": "R",
   "language": "R",
   "name": "ir"
  },
  "language_info": {
   "codemirror_mode": "r",
   "file_extension": ".r",
   "mimetype": "text/x-r-source",
   "name": "R",
   "pygments_lexer": "r",
   "version": "4.1.3"
  }
 },
 "nbformat": 4,
 "nbformat_minor": 5
}
