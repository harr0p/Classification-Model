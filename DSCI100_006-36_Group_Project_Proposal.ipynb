{
 "cells": [
  {
   "cell_type": "markdown",
   "id": "e21829b3-af5f-4c0e-9990-e2591750ada7",
   "metadata": {},
   "source": [
    "***\n",
    "# DSCI 100: Group Project\n",
    "## Classifying Students for High-Risk Alcohol Consumption\n",
    "\n",
    "#### **Section 006 - Group 6**\n",
    "#### Authors: Duncan Harrop, Julia Sangster, Charisse Webb, Janelle Xie\n",
    "***"
   ]
  },
  {
   "cell_type": "code",
   "execution_count": null,
   "id": "1ec07bee-727f-43c1-af00-fc48c9e996b1",
   "metadata": {},
   "outputs": [],
   "source": []
  }
 ],
 "metadata": {
  "kernelspec": {
   "display_name": "R",
   "language": "R",
   "name": "ir"
  },
  "language_info": {
   "codemirror_mode": "r",
   "file_extension": ".r",
   "mimetype": "text/x-r-source",
   "name": "R",
   "pygments_lexer": "r",
   "version": "4.1.3"
  }
 },
 "nbformat": 4,
 "nbformat_minor": 5
}
